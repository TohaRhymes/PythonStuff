{
 "cells": [],
 "metadata": {
  "kernelspec": {
   "display_name": "Python 3",
   "language": "python",
   "name": "python3"
  },
  "language_info": {
   "codemirror_mode": {
    "name": "ipython",
    "version": 2
   },
   "file_extension": ".py",
   "mimetype": "text/x-python",
   "name": "python",
   "nbconvert_exporter": "python",
   "pygments_lexer": "ipython2",
   "version": "2.7.6"
  },
  "pycharm": {
   "stem_cell": {
    "cell_type": "raw",
    "source": [
     "from collections import defaultdict\n",
     "\n",
     "\n",
     "# %%\n",
     "def hmm_alignment(dna1: str, dna2: str):\n",
     "    len1 = len(dna1)\n",
     "    len2 = len(dna2)\n",
     "\n",
     "\n",
     "# %%\n",
     "\n",
     "# scoring system\n",
     "\n",
     "\n",
     "states = ['match', 'g_right', 'g_down']\n",
     "\n",
     "delta1 = delta2 = 0.1\n",
     "ro1 = ro2 = 0.1\n",
     "epsilon1 = epsilon2 = 0.3\n",
     "tau = 0.1\n",
     "\n",
     "moves = {'match': {'match': 1 - delta1 - delta2 - tau,\n",
     "                   'g_right': delta1,\n",
     "                   'g_down': delta2\n",
     "                   },\n",
     "         'g_right': {'match': 1 - epsilon1 - ro2 - tau,\n",
     "                     'g_right': epsilon1,\n",
     "                     'g_down': ro2,\n",
     "                     },\n",
     "         'g_down': {'match': 1 - epsilon2 - ro1 - tau,\n",
     "                    'g_right': ro1,\n",
     "                    'g_down': epsilon2\n",
     "                    },\n",
     "         'tau': 0.1\n",
     "         }\n",
     "\n",
     "state_moves = {'match': 0.9,\n",
     "               'mismatch': 0.1,\n",
     "               'gap': 1,\n",
     "               }\n",
     "# %%\n",
     "# test 1\n",
     "dna1 = 'AGAGA'\n",
     "dna2 = 'AGAGAGA'\n",
     "\n",
     "hmm_alignment(dna1, dna2)\n",
     "\n",
     "# %%\n",
     "# test 2\n",
     "dna1 = 'ATAGCTACGAC'\n",
     "dna2 = 'TGCTAGCTAGC'\n",
     "\n",
     "hmm_alignment(dna1, dna2)\n"
    ],
    "metadata": {
     "collapsed": false
    }
   }
  }
 },
 "nbformat": 4,
 "nbformat_minor": 0
}