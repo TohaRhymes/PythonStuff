{
 "cells": [
  {
   "cell_type": "code",
   "execution_count": 1,
   "metadata": {
    "pycharm": {
     "is_executing": true
    }
   },
   "outputs": [],
   "source": [
    "#imports\n",
    "import copy"
   ]
  },
  {
   "cell_type": "code",
   "execution_count": 2,
   "metadata": {
    "pycharm": {
     "is_executing": true,
     "name": "#%%\n"
    }
   },
   "outputs": [],
   "source": [
    "# test1\n",
    "n = 4\n",
    "str_names = 'A,B,C,D'\n",
    "names = str_names.split(',')\n",
    "weights = [[16, 16, 10],\n",
    "           [8, 8],\n",
    "           [4]]"
   ]
  },
  {
   "cell_type": "code",
   "execution_count": 5,
   "metadata": {
    "pycharm": {
     "is_executing": true,
     "name": "#%%\n"
    }
   },
   "outputs": [],
   "source": [
    "# test2\n",
    "n = 6\n",
    "str_names = 'A,B,C,D,E,F'\n",
    "names = str_names.split(',')\n",
    "weights = [[5, 4, 7, 6, 8],\n",
    "           [7, 10, 9, 11],\n",
    "           [7, 6, 8],\n",
    "           [5, 9],\n",
    "           [8]]\n"
   ]
  },
  {
   "cell_type": "code",
   "execution_count": 6,
   "metadata": {
    "pycharm": {
     "is_executing": true,
     "name": "#%%\n"
    }
   },
   "outputs": [],
   "source": [
    "tree_matrix = [[float('+inf')] * (n + 1) for i in range(n + 1)]\n",
    "for i in range(1, n + 1):\n",
    "    # all leaves, weight, newick formula\n",
    "    tree_matrix[0][i] = [names[i - 1], 0, names[i - 1]]\n",
    "    tree_matrix[i][0] = [names[i - 1], 0, names[i - 1]]\n",
    "for i in range(1, n + 1):\n",
    "    for j in range(i + 1, n + 1):\n",
    "        tree_matrix[i][j] = weights[i - 1][j - i - 1]\n",
    "\n",
    "while len(tree_matrix) > 2:\n",
    "    # find max and index.\n",
    "    min_el = float('+inf')\n",
    "    i_min = -1\n",
    "    j_min = -1\n",
    "    for i in range(1, len(tree_matrix)):\n",
    "        for j in range(i + 1, len(tree_matrix[i])):\n",
    "            if tree_matrix[i][j] < min_el:\n",
    "                min_el = tree_matrix[i][j]\n",
    "                i_min = i\n",
    "                j_min = j\n",
    "    newick_sys = '(' + tree_matrix[0][i_min][2] + ':' + str(min_el / 2 - tree_matrix[0][i_min][1]) + ', ' + \\\n",
    "                 tree_matrix[0][j_min][2] + ':' + str(min_el / 2 - tree_matrix[0][j_min][1]) + ')'\n",
    "    new_name = tree_matrix[0][i_min][0] + tree_matrix[0][j_min][0]\n",
    "    new_point = [new_name, min_el / 2, newick_sys]\n",
    "\n",
    "    new_matrix = copy.deepcopy(tree_matrix)\n",
    "    # deleting rows and columns of merged points\n",
    "    del new_matrix[max(i_min, j_min)]\n",
    "    del new_matrix[min(i_min, j_min)]\n",
    "\n",
    "    for i in range(0, len(new_matrix)):\n",
    "        del new_matrix[i][max(i_min, j_min)]\n",
    "        del new_matrix[i][min(i_min, j_min)]\n",
    "\n",
    "    # adding new point\n",
    "    new_matrix.append([float('+inf')] * (len(new_matrix[0])))\n",
    "    new_matrix[len(new_matrix) - 1][0] = copy.deepcopy(new_point)\n",
    "    new_matrix[0].append(copy.deepcopy(new_point))\n",
    "    new_matrix[len(new_matrix) - 1].append(float('+inf'))\n",
    "    for i in range(1, len(new_matrix) - 1):\n",
    "        i_old = i\n",
    "        if i_old >= min(i_min, j_min):\n",
    "            i_old += 1\n",
    "        if i_old >= max(i_min, j_min):\n",
    "            i_old += 1\n",
    "        # if i!=i_min and i!=j_min:\n",
    "        len1 = tree_matrix[min(i_old, i_min)][max(i_old, i_min)]\n",
    "        len2 = tree_matrix[min(i_old, j_min)][max(i_old, j_min)]\n",
    "        avg = (len1 + len2) / 2\n",
    "        new_matrix[i].append(avg)\n",
    "    tree_matrix = new_matrix"
   ]
  },
  {
   "cell_type": "code",
   "execution_count": 4,
   "metadata": {
    "pycharm": {
     "is_executing": true,
     "name": "#%%\n"
    }
   },
   "outputs": [
    {
     "name": "stdout",
     "output_type": "stream",
     "text": [
      "(A:7.25, (B:4.0, (C:2.0, D:2.0):2.0):3.25)\n"
     ]
    }
   ],
   "source": [
    "# answer_test1\n",
    "answer = tree_matrix[0][len(tree_matrix[0]) - 1][2]\n",
    "print(answer)\n"
   ]
  },
  {
   "cell_type": "code",
   "execution_count": 7,
   "metadata": {
    "pycharm": {
     "is_executing": true,
     "name": "#%%\n"
    }
   },
   "outputs": [
    {
     "name": "stdout",
     "output_type": "stream",
     "text": [
      "(F:4.5, ((D:2.5, E:2.5):1.5, (B:3.0, (A:2.0, C:2.0):1.0):1.0):0.5)\n"
     ]
    }
   ],
   "source": [
    "# answer_test2\n",
    "answer = tree_matrix[0][len(tree_matrix[0]) - 1][2]\n",
    "print(answer)\n",
    "\n"
   ]
  },
  {
   "cell_type": "code",
   "execution_count": null,
   "metadata": {},
   "outputs": [],
   "source": []
  }
 ],
 "metadata": {
  "kernelspec": {
   "display_name": "Python 3",
   "language": "python",
   "name": "python3"
  },
  "language_info": {
   "codemirror_mode": {
    "name": "ipython",
    "version": 3
   },
   "file_extension": ".py",
   "mimetype": "text/x-python",
   "name": "python",
   "nbconvert_exporter": "python",
   "pygments_lexer": "ipython3",
   "version": "3.7.3"
  },
  "pycharm": {
   "stem_cell": {
    "cell_type": "raw",
    "metadata": {
     "collapsed": false
    },
    "source": []
   }
  }
 },
 "nbformat": 4,
 "nbformat_minor": 1
}
