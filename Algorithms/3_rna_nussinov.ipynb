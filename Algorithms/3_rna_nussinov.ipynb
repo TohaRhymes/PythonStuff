{
 "cells": [
  {
   "cell_type": "code",
   "execution_count": 4,
   "metadata": {},
   "outputs": [],
   "source": [
    "# functions\n",
    "def recursive_pairs(next_i, next_j):\n",
    "    while steps[next_i][next_j] != 'not':\n",
    "        if type(steps[next_i][next_j]) == str and steps[next_i][next_j] == 'left':\n",
    "            next_j -= 1\n",
    "        elif type(steps[next_i][next_j]) == str and steps[next_i][next_j] == 'down':\n",
    "            next_i += 1\n",
    "        elif type(steps[next_i][next_j]) == str and steps[next_i][next_j] == 'pair':\n",
    "            pairs.append([next_i, next_j])\n",
    "            next_j -= 1\n",
    "            next_i += 1\n",
    "        else:\n",
    "            recursive_pairs(steps[0][0], steps[0][1])\n",
    "            recursive_pairs(steps[1][0], steps[1][1])"
   ]
  },
  {
   "cell_type": "code",
   "execution_count": 5,
   "metadata": {
    "pycharm": {
     "name": "#%%\n"
    }
   },
   "outputs": [],
   "source": [
    "# test1\n",
    "\n",
    "rna = 'GGACC'"
   ]
  },
  {
   "cell_type": "code",
   "execution_count": 8,
   "metadata": {
    "pycharm": {
     "name": "#%%\n"
    }
   },
   "outputs": [],
   "source": [
    "# test2\n",
    "\n",
    "rna = 'AAACAUGAGGAUUACCCAUGU'"
   ]
  },
  {
   "cell_type": "code",
   "execution_count": 9,
   "metadata": {
    "pycharm": {
     "name": "#%%\n"
    }
   },
   "outputs": [],
   "source": [
    "\n",
    "# weight[i][j] = max amount of complemented digits in area [i,j]\n",
    "weight = [[0] * len(rna) for i in range(len(rna))]\n",
    "steps = [['not'] * len(rna) for i in range(len(rna))]\n",
    "complementary_nucleotide = {'A': 'U', 'U': 'A', 'G': 'C', 'C': 'G'}\n",
    "minimum_hairpin_length = 3\n",
    "\n",
    "for i in range(minimum_hairpin_length + 1, len(rna)):\n",
    "    for j in range(0, len(rna) - i):\n",
    "        x = j\n",
    "        y = j + i\n",
    "        max_weight = float('-inf')\n",
    "        step = 'not'\n",
    "        if weight[x + 1][y] > max_weight:\n",
    "            max_weight = weight[x + 1][y]\n",
    "            step = 'down'\n",
    "        if weight[x][y - 1] > max_weight:\n",
    "            max_weight = weight[x][y - 1]\n",
    "            step = 'left'\n",
    "        if complementary_nucleotide[rna[x]] == rna[y] and weight[x + 1][y - 1] + 1 > max_weight:\n",
    "            max_weight = weight[x + 1][y - 1] + 1\n",
    "            step = 'pair'\n",
    "        for k in range(x + 1, y - 1):\n",
    "            if weight[x][k] + weight[k + 1][y] > max_weight:\n",
    "                max_weight = weight[x][k] + weight[k + 1][y]\n",
    "                step = [[x, k], [k + 1, y]]\n",
    "        weight[x][y] = max_weight\n",
    "        steps[x][y] = step\n",
    "\n",
    "pairs = []\n",
    "recursive_pairs(0, len(rna) - 1)"
   ]
  },
  {
   "cell_type": "code",
   "execution_count": 7,
   "metadata": {
    "pycharm": {
     "name": "#%%\n"
    }
   },
   "outputs": [
    {
     "name": "stdout",
     "output_type": "stream",
     "text": [
      "[0, 4]\n"
     ]
    }
   ],
   "source": [
    "# and print answer 1\n",
    "for i in range(0, len(pairs)):\n",
    "    print(str(pairs[i]))"
   ]
  },
  {
   "cell_type": "code",
   "execution_count": 10,
   "metadata": {
    "pycharm": {
     "name": "#%%\n"
    }
   },
   "outputs": [
    {
     "name": "stdout",
     "output_type": "stream",
     "text": [
      "[2, 20]\n",
      "[3, 19]\n",
      "[4, 18]\n",
      "[5, 17]\n",
      "[6, 16]\n",
      "[8, 15]\n",
      "[9, 14]\n"
     ]
    }
   ],
   "source": [
    "# and print answer 2\n",
    "for i in range(0, len(pairs)):\n",
    "    print(str(pairs[i]))"
   ]
  },
  {
   "cell_type": "code",
   "execution_count": null,
   "metadata": {},
   "outputs": [],
   "source": []
  }
 ],
 "metadata": {
  "kernelspec": {
   "display_name": "Python 3",
   "language": "python",
   "name": "python3"
  },
  "language_info": {
   "codemirror_mode": {
    "name": "ipython",
    "version": 3
   },
   "file_extension": ".py",
   "mimetype": "text/x-python",
   "name": "python",
   "nbconvert_exporter": "python",
   "pygments_lexer": "ipython3",
   "version": "3.6.8"
  },
  "pycharm": {
   "stem_cell": {
    "cell_type": "raw",
    "metadata": {
     "collapsed": false
    },
    "source": []
   }
  }
 },
 "nbformat": 4,
 "nbformat_minor": 1
}
