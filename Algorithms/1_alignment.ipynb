{
 "cells": [
  {
   "cell_type": "code",
   "execution_count": 3,
   "metadata": {
    "pycharm": {
     "is_executing": false
    }
   },
   "outputs": [],
   "source": [
    "DNA1 = 'CCCATGCATGAGCA'\n",
    "DNA2 = 'ATGCCTGAAACCCC'\n",
    "\n",
    "DNA1 = '-' + DNA1\n",
    "DNA2 = '-' + DNA2\n",
    "\n",
    "weight = [[0] * len(DNA2) for i in range(len(DNA1))]\n",
    "steps = [['not'] * len(DNA2) for i in range(len(DNA1))]"
   ]
  },
  {
   "cell_type": "code",
   "execution_count": 4,
   "metadata": {
    "pycharm": {
     "is_executing": false
    }
   },
   "outputs": [],
   "source": [
    "# scoring system test 1\n",
    "match = 1\n",
    "mismatch = -1\n",
    "indel = -1"
   ]
  },
  {
   "cell_type": "code",
   "execution_count": 5,
   "outputs": [],
   "source": [
    "# scoring system test 2\n",
    "match = 1\n",
    "mismatch = -1\n",
    "indel = -0.499"
   ],
   "metadata": {
    "collapsed": false,
    "pycharm": {
     "name": "#%%\n",
     "is_executing": false
    }
   }
  },
  {
   "cell_type": "code",
   "execution_count": 6,
   "metadata": {
    "pycharm": {
     "is_executing": false,
     "name": "#%%\n"
    }
   },
   "outputs": [
    {
     "name": "stdout",
     "text": [
      "CCCATG-CATG-A----GCA\n---ATGCC-TGAAACCC-C-\n"
     ],
     "output_type": "stream"
    }
   ],
   "source": [
    "#Needleman - Wunsch\n",
    "for i in range(0, len(DNA1)):\n",
    "    for j in range(0, len(DNA2)):\n",
    "        best_step = 'not'\n",
    "        max_weight = float(\"-inf\")\n",
    "        # Find the best step.\n",
    "        if i > 0 and j > 0 and DNA1[i] == DNA2[j] and weight[i - 1][j - 1] + match > max_weight:\n",
    "            best_step = 'up_left'\n",
    "            max_weight = weight[i - 1][j - 1] + match\n",
    "        if i > 0 and j > 0 and DNA1[i] != DNA2[j] and weight[i - 1][j - 1] + mismatch > max_weight:\n",
    "            best_step = 'up_left'\n",
    "            max_weight = weight[i - 1][j - 1] + mismatch\n",
    "        if i > 0 and weight[i - 1][j] + indel > max_weight:\n",
    "            best_step = 'up'\n",
    "            max_weight = weight[i - 1][j] + indel\n",
    "        if j > 0 and weight[i][j - 1] + indel > max_weight:\n",
    "            best_step = 'left'\n",
    "            max_weight = weight[i][j - 1] + indel\n",
    "            # if the best step exists (it doesn't exist only if i==0 and j==0), save this step.\n",
    "        if best_step != 'not':\n",
    "            weight[i][j] = max_weight\n",
    "            steps[i][j] = best_step\n",
    "\n",
    "# now find alignments\n",
    "alignment_DNA1 = ''\n",
    "alignment_DNA2 = ''\n",
    "next_i = len(DNA1) - 1\n",
    "next_j = len(DNA2) - 1\n",
    "while steps[next_i][next_j] != 'not':\n",
    "    if steps[next_i][next_j] == 'up_left':\n",
    "        alignment_DNA1 += DNA1[next_i]\n",
    "        alignment_DNA2 += DNA2[next_j]\n",
    "        next_i -= 1\n",
    "        next_j -= 1\n",
    "    elif steps[next_i][next_j] == 'up':\n",
    "        alignment_DNA1 += DNA1[next_i]\n",
    "        alignment_DNA2 += '-'\n",
    "        next_i -= 1\n",
    "    elif steps[next_i][next_j] == 'left':\n",
    "        alignment_DNA2 += DNA2[next_j]\n",
    "        alignment_DNA1 += '-'\n",
    "        next_j -= 1\n",
    "alignment_DNA1 = alignment_DNA1[::-1]\n",
    "alignment_DNA2 = alignment_DNA2[::-1]\n",
    "\n",
    "# and print it\n",
    "print(alignment_DNA1)\n",
    "print(alignment_DNA2)\n",
    "\n"
   ]
  },
  {
   "cell_type": "code",
   "execution_count": 7,
   "outputs": [],
   "source": [
    "file = open(\"out.txt\", \"w\")\n",
    "\n",
    "for i in range(5):\n",
    "\n",
    "    file.write(str(i))\n",
    "\n",
    "file.close()\n",
    "\n",
    "file = open(\"out.txt\", \"w\")\n",
    "\n",
    "for i in range(5, 10):\n",
    "\n",
    "    file.write(str(i))\n",
    "\n",
    "file.close()\n"
   ],
   "metadata": {
    "collapsed": false,
    "pycharm": {
     "name": "#%%\n",
     "is_executing": false
    }
   }
  }
 ],
 "metadata": {
  "kernelspec": {
   "display_name": "Python 3",
   "language": "python",
   "name": "python3"
  },
  "language_info": {
   "codemirror_mode": {
    "name": "ipython",
    "version": 3
   },
   "file_extension": ".py",
   "mimetype": "text/x-python",
   "name": "python",
   "nbconvert_exporter": "python",
   "pygments_lexer": "ipython3",
   "version": "3.6.8"
  },
  "pycharm": {
   "stem_cell": {
    "cell_type": "raw",
    "source": [],
    "metadata": {
     "collapsed": false
    }
   }
  }
 },
 "nbformat": 4,
 "nbformat_minor": 2
}