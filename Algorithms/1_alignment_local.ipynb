{
 "cells": [
  {
   "cell_type": "code",
   "execution_count": 1,
   "metadata": {
    "pycharm": {
     "is_executing": false,
     "name": "#%%\n"
    }
   },
   "outputs": [],
   "source": [
    "#Sequences from lecture:\n",
    "DNA1 = 'TCCCAGTTATGTCAGGGGACACGAGCATGCAGAGAC'\n",
    "DNA2 = 'AATTGCCGCCGTCGTTTTCAGCAGTTATGTCAGATC'\n",
    "\n",
    "DNA1 = '-' + DNA1\n",
    "DNA2 = '-' + DNA2\n",
    "\n",
    "weight = [[0] * len(DNA2) for i in range(len(DNA1))]\n",
    "steps = [['not'] * len(DNA2) for i in range(len(DNA1))]"
   ]
  },
  {
   "cell_type": "code",
   "execution_count": 2,
   "metadata": {
    "pycharm": {
     "is_executing": false,
     "name": "#%%\n"
    }
   },
   "outputs": [],
   "source": [
    "match = 1\n",
    "mismatch = -1\n",
    "indel = -1\n"
   ]
  },
  {
   "cell_type": "code",
   "execution_count": 3,
   "metadata": {
    "pycharm": {
     "is_executing": false,
     "name": "#%%\n"
    }
   },
   "outputs": [],
   "source": [
    "#Smith-Waterman\n",
    "for i in range(0, len(DNA1)):\n",
    "    for j in range(0, len(DNA2)):\n",
    "        best_step = 'not'\n",
    "        max_weight = float(\"-inf\")\n",
    "        # Find the best step.\n",
    "        if i > 0 and j > 0 and DNA1[i] == DNA2[j] and weight[i - 1][j - 1] + match > max_weight:\n",
    "            best_step = 'up_left'\n",
    "            max_weight = weight[i - 1][j - 1] + match\n",
    "        if i > 0 and j > 0 and DNA1[i] != DNA2[j] and weight[i - 1][j - 1] + mismatch > max_weight:\n",
    "            best_step = 'up_left'\n",
    "            max_weight = weight[i - 1][j - 1] + mismatch\n",
    "        if i > 0 and weight[i - 1][j] + indel > max_weight:\n",
    "            best_step = 'up'\n",
    "            max_weight = weight[i - 1][j] + indel\n",
    "        if j > 0 and weight[i][j - 1] + indel > max_weight:\n",
    "            best_step = 'left'\n",
    "            max_weight = weight[i][j - 1] + indel\n",
    "            # if the best step exists (it doesn't exist only if i==0 and j==0), save this step.\n",
    "        if max_weight>0 and best_step != 'not':\n",
    "            weight[i][j] = max_weight\n",
    "            steps[i][j] = best_step\n",
    "        else:\n",
    "            weight[i][j] = 0\n",
    "            steps[i][j] = 'not'\n",
    "                        \n",
    "\n",
    "\n",
    "\n",
    "#find max element:\n",
    "i_max=0\n",
    "j_max=0\n",
    "max_el = float('-inf')\n",
    "for i in range(0, len(DNA1)):\n",
    "    for j in range(0, len(DNA2)):\n",
    "        if weight[i][j]>max_el:\n",
    "            max_el = weight[i][j]\n",
    "            i_max = i\n",
    "            j_max = j\n",
    "            \n",
    "# now find local_alignment\n",
    "alignment_DNA1 = ''\n",
    "alignment_DNA2 = ''\n",
    "next_i = i_max\n",
    "next_j = j_max\n",
    "while steps[next_i][next_j] != 'not':\n",
    "    if steps[next_i][next_j] == 'up_left':\n",
    "        alignment_DNA1 += DNA1[next_i]\n",
    "        alignment_DNA2 += DNA2[next_j]\n",
    "        next_i -= 1\n",
    "        next_j -= 1\n",
    "    elif steps[next_i][next_j] == 'up':\n",
    "        alignment_DNA1 += DNA1[next_i]\n",
    "        alignment_DNA2 += '-'\n",
    "        next_i -= 1\n",
    "    elif steps[next_i][next_j] == 'left':\n",
    "        alignment_DNA2 += DNA2[next_j]\n",
    "        alignment_DNA1 += '-'\n",
    "        next_j -= 1\n",
    "alignment_DNA1 = alignment_DNA1[::-1]\n",
    "alignment_DNA2 = alignment_DNA2[::-1]\n",
    "\n",
    "DNA1_beg = DNA1[1:next_i+1].lower()\n",
    "DNA1_end = DNA1[i_max+1:len(DNA1)].lower()\n",
    "DNA2_beg = DNA2[1:next_j+1].lower()\n",
    "DNA2_end = DNA2[j_max+1:len(DNA2)].lower()\n",
    "\n",
    "alignment_DNA1 = '-'*(len(DNA2_beg)-len(DNA1_beg)) + DNA1_beg + alignment_DNA1 + DNA1_end + '-'*(len(DNA2_end)-len(DNA1_end))\n",
    "alignment_DNA2 = '-'*(len(DNA1_beg)-len(DNA2_beg)) + DNA2_beg + alignment_DNA2 + DNA2_end + '-'*(len(DNA1_end)-len(DNA2_end))"
   ]
  },
  {
   "cell_type": "code",
   "execution_count": 4,
   "metadata": {},
   "outputs": [
    {
     "name": "stdout",
     "output_type": "stream",
     "text": [
      "------------------tccCAGTTATGTCAGgggacacgagcatgcagagac\n",
      "aattgccgccgtcgttttcagCAGTTATGTCAGatc------------------\n"
     ]
    }
   ],
   "source": [
    "# and print it\n",
    "print(alignment_DNA1)\n",
    "print(alignment_DNA2)"
   ]
  }
 ],
 "metadata": {
  "kernelspec": {
   "display_name": "Python 3",
   "language": "python",
   "name": "python3"
  },
  "language_info": {
   "codemirror_mode": {
    "name": "ipython",
    "version": 3
   },
   "file_extension": ".py",
   "mimetype": "text/x-python",
   "name": "python",
   "nbconvert_exporter": "python",
   "pygments_lexer": "ipython3",
   "version": "3.7.3"
  },
  "pycharm": {
   "stem_cell": {
    "cell_type": "raw",
    "metadata": {
     "collapsed": false
    },
    "source": []
   }
  }
 },
 "nbformat": 4,
 "nbformat_minor": 1
}
