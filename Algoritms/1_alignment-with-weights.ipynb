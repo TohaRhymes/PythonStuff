{
 "cells": [
  {
   "cell_type": "code",
   "execution_count": 1,
   "metadata": {
    "pycharm": {
     "is_executing": false
    }
   },
   "outputs": [],
   "source": [
    "DNA1 = 'ATGCATGGGGGGGGGCTAGGGAACGGCGTGCG'\n",
    "DNA2 = 'ACAGGATCGATCATGA'\n",
    "\n",
    "DNA1 = '-' + DNA1\n",
    "DNA2 = '-' + DNA2\n",
    "weight = [[0] * len(DNA2) for i in range(len(DNA1))]\n",
    "steps = [['not'] * len(DNA2) for i in range(len(DNA1))]"
   ]
  },
  {
   "cell_type": "code",
   "execution_count": 2,
   "metadata": {
    "pycharm": {
     "is_executing": false
    }
   },
   "outputs": [],
   "source": [
    "# TEST 1\n",
    "# new scoring system with Matrix of Weights\n",
    "# A-A, T-T, G-G, C-C -- +1 (that's the best option); A-G and T-C -- -0.15 (they have the same length);\n",
    "# A-T, A-C, G-T, G-C -- -0.65 (they don't have the same length); gap -- -1 (the worst situation)\n",
    "letters_index = {'A': 0, 'T': 1, 'G':2, 'C':3, '-':4}\n",
    "scores = [[1, -0.65, -0.15, -0.65, -2],\n",
    "          [-0.65, 1, -0.65, -0.15, -2],\n",
    "          [-0.15, -0.65, 1, -0.65, -2],\n",
    "          [-0.65, -0.15, -0.65, 1, -2],\n",
    "          [-2, -2, -2, -2, -2]]"
   ]
  },
  {
   "cell_type": "code",
   "execution_count": 5,
   "metadata": {
    "pycharm": {
     "is_executing": false,
     "name": "#%%\n"
    }
   },
   "outputs": [],
   "source": [
    "#TEST 2. I've changed cost of A-G replace to '-1'\n",
    "\n",
    "\n",
    "letters_index = {'A': 0, 'T': 1, 'G':2, 'C':3, '-':4}\n",
    "scores = [[1, -0.65, -1, -0.65, -2],\n",
    "          [-0.65, 1, -0.65, -0.15, -2],\n",
    "          [-1, -0.65, 1, -0.65, -2],\n",
    "          [-0.65, -0.15, -0.65, 1, -2],\n",
    "          [-2, -2, -2, -2, -2]]"
   ]
  },
  {
   "cell_type": "code",
   "execution_count": 6,
   "metadata": {
    "pycharm": {
     "is_executing": false,
     "name": "#%%\n"
    }
   },
   "outputs": [],
   "source": [
    "#Needleman - Wunsch\n",
    "for i in range(0, len(DNA1)):\n",
    "    for j in range(0, len(DNA2)):\n",
    "        best_step = 'not'\n",
    "        max_weight = float(\"-inf\")\n",
    "        # Find the best step.\n",
    "        if i > 0 and j > 0 and weight[i - 1][j - 1] + scores[letters_index[DNA1[i]]][letters_index[DNA2[j]]] > max_weight:\n",
    "            best_step = 'up_left'\n",
    "            max_weight = weight[i - 1][j - 1] + scores[letters_index[DNA1[i]]][letters_index[DNA2[j]]]\n",
    "        if i > 0 and weight[i - 1][j] + scores[letters_index[DNA1[i]]][letters_index['-']] >  max_weight:\n",
    "            best_step = 'up'\n",
    "            max_weight = weight[i - 1][j] + scores[letters_index[DNA1[i]]][letters_index['-']]\n",
    "        if j > 0 and weight[i][j - 1] + scores[letters_index[DNA2[j]]][letters_index['-']] > max_weight:\n",
    "            best_step = 'left'\n",
    "            max_weight = weight[i][j - 1] + scores[letters_index[DNA2[j]]][letters_index['-']]\n",
    "            # if the best step exists (it doesn't exist only if i==0 and j==0), save this step.\n",
    "        if best_step != 'not':\n",
    "            \n",
    "            weight[i][j] = max_weight\n",
    "            steps[i][j] = best_step\n",
    "\n",
    "# now find alignments\n",
    "alignment_DNA1 = ''\n",
    "alignment_DNA2 = ''\n",
    "next_i = len(DNA1) - 1\n",
    "next_j = len(DNA2) - 1\n",
    "while steps[next_i][next_j] != 'not':\n",
    "    if steps[next_i][next_j] == 'up_left':\n",
    "        alignment_DNA1 += DNA1[next_i]\n",
    "        alignment_DNA2 += DNA2[next_j]\n",
    "        next_i -= 1\n",
    "        next_j -= 1\n",
    "    elif steps[next_i][next_j] == 'up':\n",
    "        alignment_DNA1 += DNA1[next_i]\n",
    "        alignment_DNA2 += '-'\n",
    "        next_i -= 1\n",
    "    elif steps[next_i][next_j] == 'left':\n",
    "        alignment_DNA2 += DNA2[next_j]\n",
    "        alignment_DNA1 += '-'\n",
    "        next_j -= 1\n",
    "alignment_DNA1 = alignment_DNA1[::-1]\n",
    "alignment_DNA2 = alignment_DNA2[::-1]"
   ]
  },
  {
   "cell_type": "code",
   "execution_count": 4,
   "metadata": {},
   "outputs": [
    {
     "name": "stdout",
     "output_type": "stream",
     "text": [
      "ATGCATGGGGGGGGGCTAGGGAACGGCGTGCG\n",
      "A--CA-------GGA-T--CG-AT--CATG-A\n"
     ]
    }
   ],
   "source": [
    "# TEST 1 answer\n",
    "print(alignment_DNA1)\n",
    "print(alignment_DNA2)"
   ]
  },
  {
   "cell_type": "code",
   "execution_count": 7,
   "metadata": {},
   "outputs": [
    {
     "name": "stdout",
     "output_type": "stream",
     "text": [
      "ATGCATGGGGGGGGGCTAGGGAACGGCGTGCG\n",
      "A--CA--------GG--ATCG-AT--CATGA-\n"
     ]
    }
   ],
   "source": [
    "# TEST 2 answer\n",
    "print(alignment_DNA1)\n",
    "print(alignment_DNA2)"
   ]
  },
  {
   "cell_type": "code",
   "execution_count": null,
   "metadata": {},
   "outputs": [],
   "source": []
  }
 ],
 "metadata": {
  "kernelspec": {
   "display_name": "Python 3",
   "language": "python",
   "name": "python3"
  },
  "language_info": {
   "codemirror_mode": {
    "name": "ipython",
    "version": 3
   },
   "file_extension": ".py",
   "mimetype": "text/x-python",
   "name": "python",
   "nbconvert_exporter": "python",
   "pygments_lexer": "ipython3",
   "version": "3.7.3"
  },
  "pycharm": {
   "stem_cell": {
    "cell_type": "raw",
    "metadata": {
     "collapsed": false
    },
    "source": []
   }
  }
 },
 "nbformat": 4,
 "nbformat_minor": 2
}
