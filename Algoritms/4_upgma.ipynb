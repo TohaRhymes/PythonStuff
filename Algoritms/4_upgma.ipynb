{
 "cells": [
  {
   "cell_type": "code",
   "execution_count": null,
   "metadata": {
    "collapsed": true,
    "pycharm": {
     "is_executing": true
    }
   },
   "outputs": [],
   "source": [
    "import copy\n"
   ]
  },
  {
   "cell_type": "code",
   "execution_count": null,
   "outputs": [],
   "source": [
    "# test1\n",
    "n = 4\n",
    "str_names = 'A,B,C,D'\n",
    "names = str_names.split(',')\n",
    "weights = [[16, 16, 10],\n",
    "           [8, 8],\n",
    "           [4]]\n"
   ],
   "metadata": {
    "collapsed": false,
    "pycharm": {
     "name": "#%%\n"
    }
   }
  },
  {
   "cell_type": "code",
   "execution_count": null,
   "outputs": [],
   "source": [
    "# test2\n",
    "n = 6\n",
    "str_names = 'A,B,C,D,E,F'\n",
    "names = str_names.split(',')\n",
    "weights = [[5, 4, 7, 6, 8],\n",
    "           [7, 10, 9, 11],\n",
    "           [7, 6, 8],\n",
    "           [5, 9],\n",
    "           [8]]"
   ],
   "metadata": {
    "collapsed": false,
    "pycharm": {
     "name": "#%%\n"
    }
   }
  },
  {
   "cell_type": "code",
   "execution_count": null,
   "outputs": [],
   "source": [
    "tree_matrix = [[float('+inf')] * (n + 1) for i in range(n + 1)]\n",
    "for i in range(1, n + 1):\n",
    "    # all leaves, weight, newick formula\n",
    "    tree_matrix[0][i] = [names[i - 1], 0, names[i - 1]]\n",
    "    tree_matrix[i][0] = [names[i - 1], 0, names[i - 1]]\n",
    "for i in range(1, n + 1):\n",
    "    for j in range(i + 1, n + 1):\n",
    "        tree_matrix[i][j] = weights[i - 1][j - i - 1]\n",
    "\n",
    "while len(tree_matrix) > 2:\n",
    "    # find max and index.\n",
    "    min_el = float('+inf')\n",
    "    i_min = -1\n",
    "    j_min = -1\n",
    "    for i in range(1, len(tree_matrix)):\n",
    "        for j in range(i + 1, len(tree_matrix[i])):\n",
    "            if tree_matrix[i][j] < min_el:\n",
    "                min_el = tree_matrix[i][j]\n",
    "                i_min = i\n",
    "                j_min = j\n",
    "    newick_sys = '(' + tree_matrix[0][i_min][2] + ':' + str(min_el / 2 - tree_matrix[0][i_min][1]) + ', ' + \\\n",
    "                 tree_matrix[0][j_min][2] + ':' + str(min_el / 2 - tree_matrix[0][j_min][1]) + ')'\n",
    "    new_name = tree_matrix[0][i_min][0] + tree_matrix[0][j_min][0]\n",
    "    new_point = [new_name, min_el / 2, newick_sys]\n",
    "\n",
    "    new_matrix = copy.deepcopy(tree_matrix)\n",
    "    # deleting rows and columns of merged points\n",
    "    del new_matrix[max(i_min, j_min)]\n",
    "    del new_matrix[min(i_min, j_min)]\n",
    "\n",
    "    for i in range(0, len(new_matrix)):\n",
    "        del new_matrix[i][max(i_min, j_min)]\n",
    "        del new_matrix[i][min(i_min, j_min)]\n",
    "\n",
    "    # adding new point\n",
    "    new_matrix.append([float('+inf')] * (len(new_matrix[0])))\n",
    "    new_matrix[len(new_matrix) - 1][0] = copy.deepcopy(new_point)\n",
    "    new_matrix[0].append(copy.deepcopy(new_point))\n",
    "    new_matrix[len(new_matrix) - 1].append(float('+inf'))\n",
    "    for i in range(1, len(new_matrix) - 1):\n",
    "        i_old = i\n",
    "        if i_old >= min(i_min, j_min):\n",
    "            i_old += 1\n",
    "        if i_old >= max(i_min, j_min):\n",
    "            i_old += 1\n",
    "        cluster1 = len(tree_matrix[0][i_min][0])\n",
    "        cluster2 = len(tree_matrix[0][j_min][0])\n",
    "        distance1 = tree_matrix[min(i_old, i_min)][max(i_old, i_min)]\n",
    "        distance2 = tree_matrix[min(i_old, j_min)][max(i_old, j_min)]\n",
    "        avg = (distance1*cluster1 + distance2*cluster2) / (cluster1+cluster2)\n",
    "        new_matrix[i].append(avg)\n",
    "    tree_matrix = new_matrix"
   ],
   "metadata": {
    "collapsed": false,
    "pycharm": {
     "name": "#%%\n"
    }
   }
  },
  {
   "cell_type": "code",
   "execution_count": null,
   "outputs": [],
   "source": [
    "# answer_test1\n",
    "answer = tree_matrix[0][len(tree_matrix[0]) - 1][2]\n",
    "print(answer)\n"
   ],
   "metadata": {
    "collapsed": false,
    "pycharm": {
     "name": "#%%\n"
    }
   }
  },
  {
   "cell_type": "code",
   "execution_count": null,
   "outputs": [],
   "source": [
    "# answer_test2\n",
    "answer = tree_matrix[0][len(tree_matrix[0]) - 1][2]\n",
    "print(answer)\n"
   ],
   "metadata": {
    "collapsed": false,
    "pycharm": {
     "name": "#%%\n"
    }
   }
  }
 ],
 "metadata": {
  "kernelspec": {
   "display_name": "Python 3",
   "language": "python",
   "name": "python3"
  },
  "language_info": {
   "codemirror_mode": {
    "name": "ipython",
    "version": 2
   },
   "file_extension": ".py",
   "mimetype": "text/x-python",
   "name": "python",
   "nbconvert_exporter": "python",
   "pygments_lexer": "ipython2",
   "version": "2.7.6"
  },
  "pycharm": {
   "stem_cell": {
    "cell_type": "raw",
    "source": [],
    "metadata": {
     "collapsed": false
    }
   }
  }
 },
 "nbformat": 4,
 "nbformat_minor": 0
}