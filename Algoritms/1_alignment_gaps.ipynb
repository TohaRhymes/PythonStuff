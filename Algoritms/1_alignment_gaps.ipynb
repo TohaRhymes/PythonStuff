{
 "cells": [
  {
   "cell_type": "code",
   "execution_count": 10,
   "metadata": {
    "pycharm": {
     "is_executing": false,
     "name": "#%%\n"
    }
   },
   "outputs": [],
   "source": [
    "DNA1 = 'TCCCAGTTATGTCAGGGGACACGAGCATGCAGAGAC'\n",
    "DNA2 = 'AATTGCCGCCGTCGTTTTCAGCAGTTATGTCAGATC'\n",
    "\n",
    "DNA1 = '-' + DNA1\n",
    "DNA2 = '-' + DNA2"
   ]
  },
  {
   "cell_type": "code",
   "execution_count": 11,
   "metadata": {
    "pycharm": {
     "is_executing": false,
     "name": "#%%\n"
    }
   },
   "outputs": [],
   "source": [
    "# test1\n",
    "match = 1\n",
    "mismatch = -1\n",
    "gap_open = 0\n",
    "gap_extension = -1"
   ]
  },
  {
   "cell_type": "code",
   "execution_count": 14,
   "metadata": {
    "pycharm": {
     "is_executing": false,
     "name": "#%%\n"
    }
   },
   "outputs": [],
   "source": [
    "# test2\n",
    "match = 1\n",
    "mismatch = -1\n",
    "gap_open = -100\n",
    "gap_extension = -0.01"
   ]
  },
  {
   "cell_type": "code",
   "execution_count": 17,
   "metadata": {
    "pycharm": {
     "is_executing": false,
     "name": "#%%\n"
    }
   },
   "outputs": [],
   "source": [
    "# test3\n",
    "match = 1\n",
    "mismatch = -1\n",
    "gap_open = 0.5\n",
    "gap_extension = -0.3\n"
   ]
  },
  {
   "cell_type": "code",
   "execution_count": 18,
   "metadata": {
    "pycharm": {
     "is_executing": false,
     "name": "#%%\n"
    }
   },
   "outputs": [],
   "source": [
    "\n",
    "# 0 - horizontal, 1 - main, 2 - vertical\n",
    "\n",
    "level_weight = [[[0] * len(DNA2) for i in range(len(DNA1))] for j in range(3)]\n",
    "steps = [[['not'] * len(DNA2) for i in range(len(DNA1))] for j in range(3)]\n",
    "\n",
    "for i in range(len(DNA2)):\n",
    "    level_weight[0][0][i] = i * gap_extension + gap_open\n",
    "    level_weight[1][0][i] = i * gap_extension + gap_open\n",
    "    level_weight[2][0][i] = float('-inf')\n",
    "\n",
    "for i in range(len(DNA1)):\n",
    "    level_weight[2][i][0] = i * gap_extension + gap_open\n",
    "    level_weight[1][i][0] = i * gap_extension + gap_open\n",
    "    level_weight[0][i][0] = float('-inf')\n",
    "\n",
    "# level_weight[0][0][0] = 0\n",
    "level_weight[1][0][0] = 0\n",
    "# level_weight[2][0][0] = 0\n",
    "\n",
    "for i in range(3):\n",
    "    steps[i][0][0] = 'start'\n",
    "\n",
    "for i in range(1, len(DNA1)):\n",
    "    for j in range(1, len(DNA2)):\n",
    "        this_way = 'not'\n",
    "        max_weight = float('-inf')\n",
    "        if level_weight[2][i - 1][j] + gap_extension > max_weight:\n",
    "            max_weight = level_weight[2][i - 1][j] + gap_extension\n",
    "            this_way = 'this'\n",
    "        if level_weight[1][i - 1][j] + gap_extension + gap_open > max_weight:\n",
    "            max_weight = level_weight[1][i - 1][j] + gap_extension + gap_open\n",
    "            this_way = 'down'\n",
    "        level_weight[2][i][j] = max_weight\n",
    "        steps[2][i][j] = this_way\n",
    "\n",
    "        max_weight = float('-inf')\n",
    "        if level_weight[0][i][j - 1] + gap_extension > max_weight:\n",
    "            max_weight = level_weight[0][i][j - 1] + gap_extension\n",
    "            this_way = 'this'\n",
    "        if level_weight[1][i][j - 1] + gap_extension + gap_open > max_weight:\n",
    "            max_weight = level_weight[1][i][j - 1] + gap_extension + gap_open\n",
    "            this_way = 'up'\n",
    "        level_weight[0][i][j] = max_weight\n",
    "        steps[0][i][j] = this_way\n",
    "\n",
    "        max_weight = float('-inf')\n",
    "        if level_weight[0][i][j] > max_weight:\n",
    "            max_weight = level_weight[0][i][j]\n",
    "            this_way = 'down'\n",
    "        if level_weight[2][i][j] > max_weight:\n",
    "            max_weight = level_weight[2][i][j]\n",
    "            this_way = 'up'\n",
    "        if DNA1[i] == DNA2[j] and level_weight[1][i - 1][j - 1] + match > max_weight:\n",
    "            max_weight = level_weight[1][i - 1][j - 1] + match\n",
    "            this_way = 'this'\n",
    "        if DNA1[i] != DNA2[j] and level_weight[1][i - 1][j - 1] + mismatch > max_weight:\n",
    "            max_weight = level_weight[1][i - 1][j - 1] + mismatch\n",
    "            this_way = 'this'\n",
    "        level_weight[1][i][j] = max_weight\n",
    "        steps[1][i][j] = this_way\n",
    "\n",
    "# now find alignments\n",
    "alignment_DNA1 = ''\n",
    "alignment_DNA2 = ''\n",
    "next_i = len(DNA1) - 1\n",
    "next_j = len(DNA2) - 1\n",
    "this_level = 1\n",
    "this_way = steps[this_level][next_i][next_j]\n",
    "while next_i != 0 and next_j != 0:\n",
    "    if this_level == 1:\n",
    "        if this_way == 'this':\n",
    "            alignment_DNA1 += DNA1[next_i]\n",
    "            alignment_DNA2 += DNA2[next_j]\n",
    "            next_i -= 1\n",
    "            next_j -= 1\n",
    "            this_way = steps[this_level][next_i][next_j]\n",
    "            continue\n",
    "        elif this_way == 'up':\n",
    "            this_level += 1\n",
    "        elif this_way == 'down':\n",
    "            this_level -= 1\n",
    "        this_way = steps[this_level][next_i][next_j]\n",
    "    if this_level == 0:\n",
    "        if this_way == 'this':\n",
    "            alignment_DNA2 += DNA2[next_j]\n",
    "            alignment_DNA1 += '-'\n",
    "            next_j -= 1\n",
    "            this_way = steps[this_level][next_i][next_j]\n",
    "            continue\n",
    "        elif this_way == 'up':\n",
    "            this_level += 1\n",
    "            alignment_DNA2 += DNA2[next_j]\n",
    "            alignment_DNA1 += '-'\n",
    "            next_j -= 1\n",
    "            this_way = steps[this_level][next_i][next_j]\n",
    "            continue\n",
    "    if this_level == 2:\n",
    "        if this_way == 'this':\n",
    "            alignment_DNA1 += DNA1[next_i]\n",
    "            alignment_DNA2 += '-'\n",
    "            next_i -= 1\n",
    "            this_way = steps[this_level][next_i][next_j]\n",
    "            continue\n",
    "        elif this_way == 'down':\n",
    "            this_level -= 1\n",
    "            alignment_DNA1 += DNA1[next_i]\n",
    "            alignment_DNA2 += '-'\n",
    "            next_i -= 1\n",
    "            this_way = steps[this_level][next_i][next_j]\n",
    "            continue\n",
    "\n",
    "if this_way != 'start':\n",
    "    if next_i == 0:\n",
    "        while next_j > 0:\n",
    "            alignment_DNA2 += DNA2[next_j]\n",
    "            alignment_DNA1 += '-'\n",
    "            next_j -= 1\n",
    "            this_way = steps[this_level][next_i][next_j]\n",
    "    if next_j == 0:\n",
    "        while next_i > 0:\n",
    "            alignment_DNA1 += DNA1[next_i]\n",
    "            alignment_DNA2 += '-'\n",
    "            next_i -= 1\n",
    "            this_way = steps[this_level][next_i][next_j]\n",
    "\n",
    "alignment_DNA1 = alignment_DNA1[::-1]\n",
    "alignment_DNA2 = alignment_DNA2[::-1]"
   ]
  },
  {
   "cell_type": "code",
   "execution_count": 13,
   "metadata": {
    "pycharm": {
     "name": "#%%\n"
    }
   },
   "outputs": [
    {
     "name": "stdout",
     "output_type": "stream",
     "text": [
      "--T--CC-CAGT--TATGTCAGGGGACACGAGCATG-CAGAGAC\n",
      "AATTGCCGCCGTCGTTT-TCAG----CA-GTT-ATGTCAGAT-C\n"
     ]
    }
   ],
   "source": [
    "# TEST 1 answer\n",
    "print(alignment_DNA1)\n",
    "print(alignment_DNA2)"
   ]
  },
  {
   "cell_type": "code",
   "execution_count": 16,
   "metadata": {
    "pycharm": {
     "name": "#%%\n"
    },
    "scrolled": true
   },
   "outputs": [
    {
     "name": "stdout",
     "output_type": "stream",
     "text": [
      "TCCCAGTTATGTCAGGGGACACGAGCATGCAGAGAC\n",
      "AATTGCCGCCGTCGTTTTCAGCAGTTATGTCAGATC\n"
     ]
    }
   ],
   "source": [
    "# TEST 2 answer\n",
    "print(alignment_DNA1)\n",
    "print(alignment_DNA2)"
   ]
  },
  {
   "cell_type": "code",
   "execution_count": 19,
   "metadata": {
    "pycharm": {
     "name": "#%%\n"
    }
   },
   "outputs": [
    {
     "name": "stdout",
     "output_type": "stream",
     "text": [
      "--T--CC-CA-GT--TATGT-CAGGGGACACG--AGCATG-CAGAGA-C\n",
      "AATTGCCGC-CGTCGT-T-TTCAG----CA-GTTA---TGTCAGA--TC\n"
     ]
    }
   ],
   "source": [
    "# TEST 3 answer\n",
    "print(alignment_DNA1)\n",
    "print(alignment_DNA2)"
   ]
  },
  {
   "cell_type": "code",
   "execution_count": null,
   "metadata": {},
   "outputs": [],
   "source": []
  }
 ],
 "metadata": {
  "kernelspec": {
   "display_name": "Python 3",
   "language": "python",
   "name": "python3"
  },
  "language_info": {
   "codemirror_mode": {
    "name": "ipython",
    "version": 3
   },
   "file_extension": ".py",
   "mimetype": "text/x-python",
   "name": "python",
   "nbconvert_exporter": "python",
   "pygments_lexer": "ipython3",
   "version": "3.6.8"
  },
  "pycharm": {
   "stem_cell": {
    "cell_type": "raw",
    "metadata": {
     "collapsed": false
    },
    "source": []
   }
  }
 },
 "nbformat": 4,
 "nbformat_minor": 1
}
